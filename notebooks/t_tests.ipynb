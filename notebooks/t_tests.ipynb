{
 "cells": [
  {
   "cell_type": "code",
   "execution_count": 1,
   "id": "22c4bfdc-446f-400a-bb2c-fe48af5f3542",
   "metadata": {},
   "outputs": [],
   "source": [
    "import numpy as np\n",
    "import scipy as sp\n",
    "\n",
    "from src.t_tests import one_sample_t_test, paired_t_test, welch_t_test"
   ]
  },
  {
   "cell_type": "markdown",
   "id": "28d8e7f5-3f66-413d-8776-5de48c25fb7a",
   "metadata": {},
   "source": [
    "## Setup"
   ]
  },
  {
   "cell_type": "code",
   "execution_count": 2,
   "id": "4530541f-89a2-4696-ad6d-8e7fd4fc1fd9",
   "metadata": {},
   "outputs": [],
   "source": [
    "# Generator\n",
    "random_state = 1923\n",
    "rng = np.random.default_rng(random_state)"
   ]
  },
  {
   "cell_type": "code",
   "execution_count": 3,
   "id": "9f79cd31-f0b2-4c65-afce-551a8e8da929",
   "metadata": {},
   "outputs": [],
   "source": [
    "# Variables\n",
    "mu = 0.1\n",
    "sigma = 0.1\n",
    "size = 50\n",
    "x = rng.normal(mu, sigma, size)\n",
    "\n",
    "mu1 = 0.15\n",
    "sigma1 = 0.12\n",
    "size1 = 50\n",
    "x1 = rng.normal(mu1, sigma1, size1)\n",
    "\n",
    "mu2 = 0.07\n",
    "sigma2 = 0.08\n",
    "size2 = 35\n",
    "x2 = rng.normal(mu2, sigma2, size2)"
   ]
  },
  {
   "cell_type": "markdown",
   "id": "517e897b-6280-4c6a-b876-435c28b7de4f",
   "metadata": {},
   "source": [
    "## One-sample t-tests"
   ]
  },
  {
   "cell_type": "markdown",
   "id": "ac7b0ee1-bb5a-4007-b1cb-401251e1cc5f",
   "metadata": {},
   "source": [
    "### Two-sided"
   ]
  },
  {
   "cell_type": "code",
   "execution_count": 4,
   "id": "9495d680-4de3-4134-8685-fe7a10a0e47b",
   "metadata": {},
   "outputs": [
    {
     "data": {
      "text/plain": [
       "TtestResult(statistic=-2.911828575359122, pvalue=0.005395619825426012, df=49)"
      ]
     },
     "execution_count": 4,
     "metadata": {},
     "output_type": "execute_result"
    }
   ],
   "source": [
    "sp.stats.ttest_1samp(x, 0.15)"
   ]
  },
  {
   "cell_type": "code",
   "execution_count": 5,
   "id": "13c121aa-b448-4ff8-9b6d-4f58d268472d",
   "metadata": {},
   "outputs": [
    {
     "data": {
      "text/plain": [
       "(-2.941391044698857, 0.004977319251183054, 49)"
      ]
     },
     "execution_count": 5,
     "metadata": {},
     "output_type": "execute_result"
    }
   ],
   "source": [
    "one_sample_t_test(x, 0.15, alt_hypothesis = \"unequal\")"
   ]
  },
  {
   "cell_type": "markdown",
   "id": "b90408b7-81ad-45a1-bf94-db3327ef08d4",
   "metadata": {},
   "source": [
    "### One sided, sample < population"
   ]
  },
  {
   "cell_type": "code",
   "execution_count": 6,
   "id": "752726bd-9149-491b-8308-e4b7d8da8ce8",
   "metadata": {},
   "outputs": [
    {
     "data": {
      "text/plain": [
       "TtestResult(statistic=4.264484269551562, pvalue=0.9999544706134711, df=49)"
      ]
     },
     "execution_count": 6,
     "metadata": {},
     "output_type": "execute_result"
    }
   ],
   "source": [
    "sp.stats.ttest_1samp(x, 0.05, alternative = \"less\")"
   ]
  },
  {
   "cell_type": "code",
   "execution_count": 7,
   "id": "98cdd041-a78f-4822-8154-5a1a9d14aebb",
   "metadata": {},
   "outputs": [
    {
     "data": {
      "text/plain": [
       "(4.307779636090385, 0.9999604762144676, 49)"
      ]
     },
     "execution_count": 7,
     "metadata": {},
     "output_type": "execute_result"
    }
   ],
   "source": [
    "one_sample_t_test(x, 0.05, alt_hypothesis = \"less\")"
   ]
  },
  {
   "cell_type": "markdown",
   "id": "2a129612-f4c3-4530-a829-4e13110d2f6e",
   "metadata": {},
   "source": [
    "### One sided, sample > population"
   ]
  },
  {
   "cell_type": "code",
   "execution_count": 8,
   "id": "8be7aef5-8a51-4c28-91bf-8fe1fff69a5e",
   "metadata": {},
   "outputs": [
    {
     "data": {
      "text/plain": [
       "TtestResult(statistic=2.4704060583238916, pvalue=0.008511936349557417, df=49)"
      ]
     },
     "execution_count": 8,
     "metadata": {},
     "output_type": "execute_result"
    }
   ],
   "source": [
    "sp.stats.ttest_1samp(x, 0.075, alternative = \"greater\")"
   ]
  },
  {
   "cell_type": "code",
   "execution_count": 9,
   "id": "95cd65d7-aabb-4f44-b7b5-038a7668f19c",
   "metadata": {},
   "outputs": [
    {
     "data": {
      "text/plain": [
       "(2.495486965893075, 0.007997425956148496, 49)"
      ]
     },
     "execution_count": 9,
     "metadata": {},
     "output_type": "execute_result"
    }
   ],
   "source": [
    "one_sample_t_test(x, 0.075, alt_hypothesis = \"greater\")"
   ]
  },
  {
   "cell_type": "markdown",
   "id": "32240989-c4c3-47d0-99f0-c3f0cbc7d0de",
   "metadata": {},
   "source": [
    "## Two-sample t-tests"
   ]
  },
  {
   "cell_type": "markdown",
   "id": "40e5c198-8fcb-4f16-8c50-d747793d0dcf",
   "metadata": {},
   "source": [
    "### Paired"
   ]
  },
  {
   "cell_type": "markdown",
   "id": "c0b67af2-c3a9-4fa0-8183-17f047ee6f20",
   "metadata": {},
   "source": [
    "#### Two-sided"
   ]
  },
  {
   "cell_type": "code",
   "execution_count": 10,
   "id": "71a2b5f5-b7e0-4727-842b-d60b569b8b05",
   "metadata": {},
   "outputs": [
    {
     "data": {
      "text/plain": [
       "TtestResult(statistic=-2.1943932002783066, pvalue=0.032977777644518654, df=49)"
      ]
     },
     "execution_count": 10,
     "metadata": {},
     "output_type": "execute_result"
    }
   ],
   "source": [
    "sp.stats.ttest_rel(x, x1)"
   ]
  },
  {
   "cell_type": "code",
   "execution_count": 11,
   "id": "5672c1a4-df11-4e89-bf41-93a9ed7604a0",
   "metadata": {},
   "outputs": [
    {
     "data": {
      "text/plain": [
       "(-2.216671875009199, 0.03131816698421175, 49)"
      ]
     },
     "execution_count": 11,
     "metadata": {},
     "output_type": "execute_result"
    }
   ],
   "source": [
    "paired_t_test(x, x1)"
   ]
  },
  {
   "cell_type": "markdown",
   "id": "a7e4e3ae-cb31-43eb-8f7f-a53029744f21",
   "metadata": {},
   "source": [
    "#### One-sided, sample1 < sample2"
   ]
  },
  {
   "cell_type": "code",
   "execution_count": 12,
   "id": "bae80571-6bac-4e88-a5c8-60eb6f062a6e",
   "metadata": {},
   "outputs": [
    {
     "data": {
      "text/plain": [
       "TtestResult(statistic=-2.1943932002783066, pvalue=0.016488888822259327, df=49)"
      ]
     },
     "execution_count": 12,
     "metadata": {},
     "output_type": "execute_result"
    }
   ],
   "source": [
    "sp.stats.ttest_rel(x, x1, alternative = \"less\")"
   ]
  },
  {
   "cell_type": "code",
   "execution_count": 13,
   "id": "bb6c2ed8-c332-401f-bc7f-1ab27ec7d78a",
   "metadata": {},
   "outputs": [
    {
     "data": {
      "text/plain": [
       "(-2.216671875009199, 0.015659083492105874, 49)"
      ]
     },
     "execution_count": 13,
     "metadata": {},
     "output_type": "execute_result"
    }
   ],
   "source": [
    "paired_t_test(x, x1, \"less\")"
   ]
  },
  {
   "cell_type": "markdown",
   "id": "464076eb-c881-47cd-8f1e-a96d5bee613f",
   "metadata": {},
   "source": [
    "#### One-sided, sample1 > sample2"
   ]
  },
  {
   "cell_type": "code",
   "execution_count": 14,
   "id": "079abfc7-f626-4cc2-af8d-013e3656ccef",
   "metadata": {},
   "outputs": [
    {
     "data": {
      "text/plain": [
       "TtestResult(statistic=-2.1943932002783066, pvalue=0.9835111111777407, df=49)"
      ]
     },
     "execution_count": 14,
     "metadata": {},
     "output_type": "execute_result"
    }
   ],
   "source": [
    "sp.stats.ttest_rel(x, x1, alternative = \"greater\")"
   ]
  },
  {
   "cell_type": "code",
   "execution_count": 15,
   "id": "65c9a982-72f8-418a-ad36-2a1b699ed109",
   "metadata": {},
   "outputs": [
    {
     "data": {
      "text/plain": [
       "(-2.216671875009199, 0.9843409165078941, 49)"
      ]
     },
     "execution_count": 15,
     "metadata": {},
     "output_type": "execute_result"
    }
   ],
   "source": [
    "paired_t_test(x, x1, \"greater\")"
   ]
  },
  {
   "cell_type": "markdown",
   "id": "86ad9b36-c148-4b11-91aa-256179444c0f",
   "metadata": {},
   "source": [
    "### Unpaired (Welch t-test)"
   ]
  },
  {
   "cell_type": "markdown",
   "id": "e2ff099d-ba01-4def-9f66-8424905d1a3b",
   "metadata": {},
   "source": [
    "#### Two-sided"
   ]
  },
  {
   "cell_type": "code",
   "execution_count": 16,
   "id": "caeca3d9-1c22-40b0-b4be-294e5f49b0b5",
   "metadata": {},
   "outputs": [
    {
     "data": {
      "text/plain": [
       "TtestResult(statistic=2.6221358807970616, pvalue=0.010393514083803686, df=82.9879624254343)"
      ]
     },
     "execution_count": 16,
     "metadata": {},
     "output_type": "execute_result"
    }
   ],
   "source": [
    "sp.stats.ttest_ind(x, x2, equal_var = False)"
   ]
  },
  {
   "cell_type": "code",
   "execution_count": 17,
   "id": "d00f3348-d285-4f0d-abac-41f580ce3615",
   "metadata": {},
   "outputs": [
    {
     "data": {
      "text/plain": [
       "(2.6534460900927357, 0.009546412909026358, 82.97784409860694)"
      ]
     },
     "execution_count": 17,
     "metadata": {},
     "output_type": "execute_result"
    }
   ],
   "source": [
    "welch_t_test(x, x2)"
   ]
  },
  {
   "cell_type": "markdown",
   "id": "e9c1e8c4-9688-4ac6-aa41-3ca27dc4ecaf",
   "metadata": {},
   "source": [
    "#### One-sided, sample1 < sample2"
   ]
  },
  {
   "cell_type": "code",
   "execution_count": 18,
   "id": "91939929-2145-4907-859d-20709c56962c",
   "metadata": {},
   "outputs": [
    {
     "data": {
      "text/plain": [
       "TtestResult(statistic=2.6221358807970616, pvalue=0.9948032429580982, df=82.9879624254343)"
      ]
     },
     "execution_count": 18,
     "metadata": {},
     "output_type": "execute_result"
    }
   ],
   "source": [
    "sp.stats.ttest_ind(x, x2, equal_var = False, alternative = \"less\")"
   ]
  },
  {
   "cell_type": "code",
   "execution_count": 19,
   "id": "8fa4aa97-5541-4f38-8fdf-dda726992db6",
   "metadata": {},
   "outputs": [
    {
     "data": {
      "text/plain": [
       "(2.6534460900927357, 0.9952267935454867, 82.97784409860694)"
      ]
     },
     "execution_count": 19,
     "metadata": {},
     "output_type": "execute_result"
    }
   ],
   "source": [
    "welch_t_test(x, x2, \"less\")"
   ]
  },
  {
   "cell_type": "markdown",
   "id": "5b2ca6cc-464d-490e-96b4-89b3d9e666ea",
   "metadata": {},
   "source": [
    "#### One-sided, sample1 > sample2"
   ]
  },
  {
   "cell_type": "code",
   "execution_count": 20,
   "id": "adbf53fd-4db4-4c9f-a6b3-2bb6a82bf1e9",
   "metadata": {},
   "outputs": [
    {
     "data": {
      "text/plain": [
       "TtestResult(statistic=2.6221358807970616, pvalue=0.005196757041901843, df=82.9879624254343)"
      ]
     },
     "execution_count": 20,
     "metadata": {},
     "output_type": "execute_result"
    }
   ],
   "source": [
    "sp.stats.ttest_ind(x, x2, equal_var = False, alternative = \"greater\")"
   ]
  },
  {
   "cell_type": "code",
   "execution_count": 21,
   "id": "23a903fc-e17c-4076-870a-02be0be65ca3",
   "metadata": {},
   "outputs": [
    {
     "data": {
      "text/plain": [
       "(2.6534460900927357, 0.004773206454513179, 82.97784409860694)"
      ]
     },
     "execution_count": 21,
     "metadata": {},
     "output_type": "execute_result"
    }
   ],
   "source": [
    "welch_t_test(x, x2, \"greater\")"
   ]
  }
 ],
 "metadata": {
  "kernelspec": {
   "display_name": "Python 3 (ipykernel)",
   "language": "python",
   "name": "python3"
  },
  "language_info": {
   "codemirror_mode": {
    "name": "ipython",
    "version": 3
   },
   "file_extension": ".py",
   "mimetype": "text/x-python",
   "name": "python",
   "nbconvert_exporter": "python",
   "pygments_lexer": "ipython3",
   "version": "3.11.9"
  }
 },
 "nbformat": 4,
 "nbformat_minor": 5
}
