{
 "cells": [
  {
   "cell_type": "code",
   "execution_count": 1,
   "id": "3bbc0fac-5e04-416e-8e7e-9f30cec90149",
   "metadata": {},
   "outputs": [],
   "source": [
    "import pandas as pd\n",
    "import numpy as np\n",
    "import matplotlib.pyplot as plt\n",
    "\n",
    "from src.association import covariance, correlation_pearson"
   ]
  },
  {
   "cell_type": "markdown",
   "id": "4536e1ac-6e2d-424e-855d-120bbc96dd76",
   "metadata": {},
   "source": [
    "## Setup"
   ]
  },
  {
   "cell_type": "code",
   "execution_count": 2,
   "id": "e5b1e9f7-8c32-4dc8-8988-eb1275c1b085",
   "metadata": {},
   "outputs": [],
   "source": [
    "# Generator\n",
    "random_state = 1923\n",
    "rng1 = np.random.default_rng(random_state)\n",
    "rng2 = np.random.default_rng(random_state + 1)"
   ]
  },
  {
   "cell_type": "code",
   "execution_count": 3,
   "id": "d1b2821d-d71f-407f-b0e1-20993c5f0293",
   "metadata": {},
   "outputs": [],
   "source": [
    "# Variables\n",
    "lam = 5\n",
    "size = 1000\n",
    "x = rng1.poisson(lam, size)\n",
    "y = rng2.poisson(lam, size)"
   ]
  },
  {
   "cell_type": "code",
   "execution_count": 4,
   "id": "24a0b328-bf1f-41b7-b612-3b295b573388",
   "metadata": {},
   "outputs": [
    {
     "data": {
      "image/png": "[encoded data removed]",
      "text/plain": [
       "<Figure size 640x480 with 1 Axes>"
      ]
     },
     "metadata": {},
     "output_type": "display_data"
    }
   ],
   "source": [
    "_ = plt.scatter(x, y)"
   ]
  },
  {
   "cell_type": "markdown",
   "id": "8e4ad006-04e6-4bbe-9abd-3c879c88256b",
   "metadata": {},
   "source": [
    "## Manual calculation"
   ]
  },
  {
   "cell_type": "code",
   "execution_count": 5,
   "id": "b4621823-021f-4014-97a5-53850533a36a",
   "metadata": {},
   "outputs": [],
   "source": [
    "df = pd.DataFrame({\n",
    "    \"x\": x,\n",
    "    \"y\": y\n",
    "})"
   ]
  },
  {
   "cell_type": "code",
   "execution_count": 6,
   "id": "5e0af5b2-0519-4733-92a9-0668011e6a5f",
   "metadata": {},
   "outputs": [],
   "source": [
    "# Deviations from the mean\n",
    "df.loc[:, \"x - E(x)\"] = df[\"x\"] - df[\"x\"].mean()\n",
    "df.loc[:, \"y - E(y)\"] = df[\"y\"] - df[\"y\"].mean()\n",
    "\n",
    "# Product of the deviations from the mean\n",
    "df.loc[:, \"product\"] = df[\"x - E(x)\"] * df[\"y - E(y)\"]"
   ]
  },
  {
   "cell_type": "code",
   "execution_count": 7,
   "id": "2349772a-ae83-485e-8b45-0835826ff5be",
   "metadata": {},
   "outputs": [
    {
     "data": {
      "text/html": [
       "<div>\n",
       "<style scoped>\n",
       "    .dataframe tbody tr th:only-of-type {\n",
       "        vertical-align: middle;\n",
       "    }\n",
       "\n",
       "    .dataframe tbody tr th {\n",
       "        vertical-align: top;\n",
       "    }\n",
       "\n",
       "    .dataframe thead th {\n",
       "        text-align: right;\n",
       "    }\n",
       "</style>\n",
       "<table border=\"1\" class=\"dataframe\">\n",
       "  <thead>\n",
       "    <tr style=\"text-align: right;\">\n",
       "      <th></th>\n",
       "      <th>x</th>\n",
       "      <th>y</th>\n",
       "      <th>x - E(x)</th>\n",
       "      <th>y - E(y)</th>\n",
       "      <th>product</th>\n",
       "    </tr>\n",
       "  </thead>\n",
       "  <tbody>\n",
       "    <tr>\n",
       "      <th>0</th>\n",
       "      <td>6</td>\n",
       "      <td>4</td>\n",
       "      <td>0.95</td>\n",
       "      <td>-0.993</td>\n",
       "      <td>-0.94335</td>\n",
       "    </tr>\n",
       "    <tr>\n",
       "      <th>1</th>\n",
       "      <td>3</td>\n",
       "      <td>3</td>\n",
       "      <td>-2.05</td>\n",
       "      <td>-1.993</td>\n",
       "      <td>4.08565</td>\n",
       "    </tr>\n",
       "    <tr>\n",
       "      <th>2</th>\n",
       "      <td>2</td>\n",
       "      <td>5</td>\n",
       "      <td>-3.05</td>\n",
       "      <td>0.007</td>\n",
       "      <td>-0.02135</td>\n",
       "    </tr>\n",
       "    <tr>\n",
       "      <th>3</th>\n",
       "      <td>7</td>\n",
       "      <td>4</td>\n",
       "      <td>1.95</td>\n",
       "      <td>-0.993</td>\n",
       "      <td>-1.93635</td>\n",
       "    </tr>\n",
       "    <tr>\n",
       "      <th>4</th>\n",
       "      <td>9</td>\n",
       "      <td>4</td>\n",
       "      <td>3.95</td>\n",
       "      <td>-0.993</td>\n",
       "      <td>-3.92235</td>\n",
       "    </tr>\n",
       "    <tr>\n",
       "      <th>...</th>\n",
       "      <td>...</td>\n",
       "      <td>...</td>\n",
       "      <td>...</td>\n",
       "      <td>...</td>\n",
       "      <td>...</td>\n",
       "    </tr>\n",
       "    <tr>\n",
       "      <th>995</th>\n",
       "      <td>3</td>\n",
       "      <td>4</td>\n",
       "      <td>-2.05</td>\n",
       "      <td>-0.993</td>\n",
       "      <td>2.03565</td>\n",
       "    </tr>\n",
       "    <tr>\n",
       "      <th>996</th>\n",
       "      <td>7</td>\n",
       "      <td>3</td>\n",
       "      <td>1.95</td>\n",
       "      <td>-1.993</td>\n",
       "      <td>-3.88635</td>\n",
       "    </tr>\n",
       "    <tr>\n",
       "      <th>997</th>\n",
       "      <td>2</td>\n",
       "      <td>6</td>\n",
       "      <td>-3.05</td>\n",
       "      <td>1.007</td>\n",
       "      <td>-3.07135</td>\n",
       "    </tr>\n",
       "    <tr>\n",
       "      <th>998</th>\n",
       "      <td>4</td>\n",
       "      <td>9</td>\n",
       "      <td>-1.05</td>\n",
       "      <td>4.007</td>\n",
       "      <td>-4.20735</td>\n",
       "    </tr>\n",
       "    <tr>\n",
       "      <th>999</th>\n",
       "      <td>6</td>\n",
       "      <td>7</td>\n",
       "      <td>0.95</td>\n",
       "      <td>2.007</td>\n",
       "      <td>1.90665</td>\n",
       "    </tr>\n",
       "  </tbody>\n",
       "</table>\n",
       "<p>1000 rows × 5 columns</p>\n",
       "</div>"
      ],
      "text/plain": [
       "     x  y  x - E(x)  y - E(y)  product\n",
       "0    6  4      0.95    -0.993 -0.94335\n",
       "1    3  3     -2.05    -1.993  4.08565\n",
       "2    2  5     -3.05     0.007 -0.02135\n",
       "3    7  4      1.95    -0.993 -1.93635\n",
       "4    9  4      3.95    -0.993 -3.92235\n",
       "..  .. ..       ...       ...      ...\n",
       "995  3  4     -2.05    -0.993  2.03565\n",
       "996  7  3      1.95    -1.993 -3.88635\n",
       "997  2  6     -3.05     1.007 -3.07135\n",
       "998  4  9     -1.05     4.007 -4.20735\n",
       "999  6  7      0.95     2.007  1.90665\n",
       "\n",
       "[1000 rows x 5 columns]"
      ]
     },
     "execution_count": 7,
     "metadata": {},
     "output_type": "execute_result"
    }
   ],
   "source": [
    "df"
   ]
  },
  {
   "cell_type": "code",
   "execution_count": 8,
   "id": "4e60f657-06f1-4f55-a364-2ad79a442dc2",
   "metadata": {},
   "outputs": [
    {
     "data": {
      "text/plain": [
       "-0.07864999999999997"
      ]
     },
     "execution_count": 8,
     "metadata": {},
     "output_type": "execute_result"
    }
   ],
   "source": [
    "# Covariance: Expected value(product(deviations from the mean))\n",
    "covar = df[\"product\"].mean()\n",
    "covar"
   ]
  },
  {
   "cell_type": "code",
   "execution_count": 9,
   "id": "07284b7c-dc67-4b55-9a1d-c1203d81bd7c",
   "metadata": {},
   "outputs": [
    {
     "data": {
      "text/plain": [
       "-0.07872872872872842"
      ]
     },
     "execution_count": 9,
     "metadata": {},
     "output_type": "execute_result"
    }
   ],
   "source": [
    "# Check against numpy covariance\n",
    "np.cov(df[[\"x\", \"y\"]], rowvar = False)[0, 1]"
   ]
  },
  {
   "cell_type": "code",
   "execution_count": 10,
   "id": "7675294a-6f04-4c6e-947f-5a0b39aca3d8",
   "metadata": {},
   "outputs": [
    {
     "data": {
      "text/plain": [
       "-0.016510846905336326"
      ]
     },
     "execution_count": 10,
     "metadata": {},
     "output_type": "execute_result"
    }
   ],
   "source": [
    "# Pearson correlation: Covariance / product(standard deviations)\n",
    "pearson_corr = covar / (df.x.std() * df.y.std())\n",
    "pearson_corr"
   ]
  },
  {
   "cell_type": "code",
   "execution_count": 11,
   "id": "61930aa9-dcf9-444e-8637-ffdeec180e33",
   "metadata": {},
   "outputs": [
    {
     "data": {
      "text/plain": [
       "-0.016527374279615887"
      ]
     },
     "execution_count": 11,
     "metadata": {},
     "output_type": "execute_result"
    }
   ],
   "source": [
    "# Check against numpy Pearson correlation\n",
    "np.corrcoef(df[[\"x\", \"y\"]], rowvar = False)[0, 1]"
   ]
  },
  {
   "cell_type": "markdown",
   "id": "aedea092-ec13-48aa-98e7-9260d619d556",
   "metadata": {},
   "source": [
    "## Function implementation"
   ]
  },
  {
   "cell_type": "code",
   "execution_count": 12,
   "id": "20674320-cf20-439b-807d-96712b0dc24c",
   "metadata": {},
   "outputs": [
    {
     "data": {
      "text/plain": [
       "-0.07864999999999993"
      ]
     },
     "execution_count": 12,
     "metadata": {},
     "output_type": "execute_result"
    }
   ],
   "source": [
    "covariance(x, y)"
   ]
  },
  {
   "cell_type": "code",
   "execution_count": 13,
   "id": "6e621926-7d9b-40e8-a5b8-7ea3a8a71134",
   "metadata": {},
   "outputs": [
    {
     "data": {
      "text/plain": [
       "-0.01652737427961594"
      ]
     },
     "execution_count": 13,
     "metadata": {},
     "output_type": "execute_result"
    }
   ],
   "source": [
    "correlation_pearson(x, y)"
   ]
  }
 ],
 "metadata": {
  "kernelspec": {
   "display_name": "Python 3 (ipykernel)",
   "language": "python",
   "name": "python3"
  },
  "language_info": {
   "codemirror_mode": {
    "name": "ipython",
    "version": 3
   },
   "file_extension": ".py",
   "mimetype": "text/x-python",
   "name": "python",
   "nbconvert_exporter": "python",
   "pygments_lexer": "ipython3",
   "version": "3.11.9"
  }
 },
 "nbformat": 4,
 "nbformat_minor": 5
}
