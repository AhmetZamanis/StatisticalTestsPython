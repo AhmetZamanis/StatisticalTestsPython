{
 "cells": [
  {
   "cell_type": "code",
   "execution_count": 1,
   "id": "e520904a-c740-4fec-8525-d64699460905",
   "metadata": {},
   "outputs": [],
   "source": [
    "import numpy as np\n",
    "import matplotlib.pyplot as plt\n",
    "\n",
    "from src import dispersion"
   ]
  },
  {
   "cell_type": "markdown",
   "id": "3dd976a7-205c-4fd0-ada4-ba8bab2617aa",
   "metadata": {},
   "source": [
    "## Setup"
   ]
  },
  {
   "cell_type": "code",
   "execution_count": 2,
   "id": "de5aefd7-533d-468c-97f8-9041169b6a31",
   "metadata": {},
   "outputs": [],
   "source": [
    "# Generator\n",
    "random_state = 1923\n",
    "rng = np.random.default_rng(random_state)"
   ]
  },
  {
   "cell_type": "code",
   "execution_count": 3,
   "id": "00f7c5f3-6627-4e85-9a33-8c9c6a8d88aa",
   "metadata": {},
   "outputs": [],
   "source": [
    "# Variables\n",
    "mu = 5\n",
    "sigma = 2\n",
    "size = 1000\n",
    "x = rng.normal(mu, sigma, size)"
   ]
  },
  {
   "cell_type": "markdown",
   "id": "7c96a229-5965-4e78-b2f4-e5e3f75068cf",
   "metadata": {},
   "source": [
    "## Tests"
   ]
  },
  {
   "cell_type": "markdown",
   "id": "61fc7cb9-9872-4347-b7bd-0fda7f379eff",
   "metadata": {},
   "source": [
    "### Mean"
   ]
  },
  {
   "cell_type": "code",
   "execution_count": 4,
   "id": "30a83ceb-119c-4dc6-b3cc-dfec48897469",
   "metadata": {},
   "outputs": [
    {
     "data": {
      "text/plain": [
       "5.022162664538807"
      ]
     },
     "execution_count": 4,
     "metadata": {},
     "output_type": "execute_result"
    }
   ],
   "source": [
    "dispersion.mean(x)"
   ]
  },
  {
   "cell_type": "code",
   "execution_count": 5,
   "id": "3630c886-de6e-404b-982b-75ef21157451",
   "metadata": {},
   "outputs": [
    {
     "data": {
      "text/plain": [
       "5.022162664538804"
      ]
     },
     "execution_count": 5,
     "metadata": {},
     "output_type": "execute_result"
    }
   ],
   "source": [
    "np.mean(x)"
   ]
  },
  {
   "cell_type": "markdown",
   "id": "54c005c8-dd08-4f29-a635-8488cffc275c",
   "metadata": {},
   "source": [
    "### Median"
   ]
  },
  {
   "cell_type": "code",
   "execution_count": 6,
   "id": "7dd21d87-558f-4123-b937-e61817ab8f17",
   "metadata": {},
   "outputs": [
    {
     "data": {
      "text/plain": [
       "5.0454934650417265"
      ]
     },
     "execution_count": 6,
     "metadata": {},
     "output_type": "execute_result"
    }
   ],
   "source": [
    "dispersion.median(x)"
   ]
  },
  {
   "cell_type": "code",
   "execution_count": 7,
   "id": "f52335a5-ef79-4770-b6b2-74b1285da368",
   "metadata": {},
   "outputs": [
    {
     "data": {
      "text/plain": [
       "5.0454934650417265"
      ]
     },
     "execution_count": 7,
     "metadata": {},
     "output_type": "execute_result"
    }
   ],
   "source": [
    "np.median(x)"
   ]
  },
  {
   "cell_type": "markdown",
   "id": "7aeae09e-cec4-4282-af34-1040b8d746eb",
   "metadata": {},
   "source": [
    "### Deviations from mean"
   ]
  },
  {
   "cell_type": "code",
   "execution_count": 8,
   "id": "cd8579f1-4ba4-4945-b1b4-b0586319dac5",
   "metadata": {},
   "outputs": [
    {
     "data": {
      "text/plain": [
       "2.6645352591003757e-15"
      ]
     },
     "execution_count": 8,
     "metadata": {},
     "output_type": "execute_result"
    }
   ],
   "source": [
    "((x - np.mean(x)) - dispersion.deviations_from_mean(x)).max()"
   ]
  },
  {
   "cell_type": "markdown",
   "id": "c3bf9b4f-903d-4660-984a-20b44f5f9e5f",
   "metadata": {},
   "source": [
    "### Variance"
   ]
  },
  {
   "cell_type": "code",
   "execution_count": 9,
   "id": "0bcd8b09-2248-4779-8930-08e1b00ec19c",
   "metadata": {},
   "outputs": [
    {
     "data": {
      "text/plain": [
       "4.164945548240288"
      ]
     },
     "execution_count": 9,
     "metadata": {},
     "output_type": "execute_result"
    }
   ],
   "source": [
    "np.var(x)"
   ]
  },
  {
   "cell_type": "code",
   "execution_count": 10,
   "id": "7a02e748-e9d0-448a-a363-34fac254432a",
   "metadata": {},
   "outputs": [
    {
     "data": {
      "text/plain": [
       "4.164945548240287"
      ]
     },
     "execution_count": 10,
     "metadata": {},
     "output_type": "execute_result"
    }
   ],
   "source": [
    "dispersion.variance(x)"
   ]
  },
  {
   "cell_type": "markdown",
   "id": "86818fc4-74b1-4386-a0d2-8efce6c5bc75",
   "metadata": {},
   "source": [
    "### Standard error of mean"
   ]
  },
  {
   "cell_type": "code",
   "execution_count": 11,
   "id": "d9281697-d3f3-4364-8634-b35475716a10",
   "metadata": {},
   "outputs": [
    {
     "data": {
      "text/plain": [
       "0.06453638933377268"
      ]
     },
     "execution_count": 11,
     "metadata": {},
     "output_type": "execute_result"
    }
   ],
   "source": [
    "np.std(x) / np.sqrt(len(x))"
   ]
  },
  {
   "cell_type": "code",
   "execution_count": 12,
   "id": "a97cc7a1-87f1-4368-a75c-0abe76c29695",
   "metadata": {},
   "outputs": [
    {
     "data": {
      "text/plain": [
       "0.06453638933377268"
      ]
     },
     "execution_count": 12,
     "metadata": {},
     "output_type": "execute_result"
    }
   ],
   "source": [
    "dispersion.standard_error_of_mean(x)"
   ]
  },
  {
   "cell_type": "markdown",
   "id": "f10bf217-bfaf-470d-b3a9-13be735642c8",
   "metadata": {},
   "source": [
    "### Mean absolute deviation"
   ]
  },
  {
   "cell_type": "code",
   "execution_count": 13,
   "id": "3a823549-1272-4008-b9c5-30c145c6370e",
   "metadata": {},
   "outputs": [
    {
     "data": {
      "text/plain": [
       "1.618563281682112"
      ]
     },
     "execution_count": 13,
     "metadata": {},
     "output_type": "execute_result"
    }
   ],
   "source": [
    "np.mean(np.abs(x - np.mean(x)))"
   ]
  },
  {
   "cell_type": "code",
   "execution_count": 14,
   "id": "cdc77c87-e053-48b0-9bf4-a6d25fb06b46",
   "metadata": {},
   "outputs": [
    {
     "data": {
      "text/plain": [
       "1.6185632816821105"
      ]
     },
     "execution_count": 14,
     "metadata": {},
     "output_type": "execute_result"
    }
   ],
   "source": [
    "dispersion.mean_absolute_deviation(x)"
   ]
  },
  {
   "cell_type": "markdown",
   "id": "70d2eca1-6b45-4d0a-babb-2d1f5f09108e",
   "metadata": {},
   "source": [
    "### Median absolute deviation"
   ]
  },
  {
   "cell_type": "code",
   "execution_count": 15,
   "id": "e4101fdc-000d-4d61-9427-0f406ff18402",
   "metadata": {},
   "outputs": [
    {
     "data": {
      "text/plain": [
       "1.6185051492131375"
      ]
     },
     "execution_count": 15,
     "metadata": {},
     "output_type": "execute_result"
    }
   ],
   "source": [
    "np.mean(np.abs(x - np.median(x)))"
   ]
  },
  {
   "cell_type": "code",
   "execution_count": 16,
   "id": "cf63dd3d-af64-43f8-9f01-841675f75cf0",
   "metadata": {},
   "outputs": [
    {
     "data": {
      "text/plain": [
       "1.6185051492131364"
      ]
     },
     "execution_count": 16,
     "metadata": {},
     "output_type": "execute_result"
    }
   ],
   "source": [
    "dispersion.mean_absolute_deviation(x, dispersion.median(x))"
   ]
  }
 ],
 "metadata": {
  "kernelspec": {
   "display_name": "Python 3 (ipykernel)",
   "language": "python",
   "name": "python3"
  },
  "language_info": {
   "codemirror_mode": {
    "name": "ipython",
    "version": 3
   },
   "file_extension": ".py",
   "mimetype": "text/x-python",
   "name": "python",
   "nbconvert_exporter": "python",
   "pygments_lexer": "ipython3",
   "version": "3.11.9"
  }
 },
 "nbformat": 4,
 "nbformat_minor": 5
}
